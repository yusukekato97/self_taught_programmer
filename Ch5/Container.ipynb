{
 "cells": [
  {
   "cell_type": "code",
   "execution_count": 3,
   "metadata": {},
   "outputs": [
    {
     "name": "stdout",
     "output_type": "stream",
     "text": [
      "[\"B'z\", 'Mr.Children', 'ひげだん', 'あいみょん', 'ラルク']\n",
      "B'z\n",
      "ラルク\n",
      "['ひげだん', 'あいみょん']\n"
     ]
    }
   ],
   "source": [
    "# Challenge 1\n",
    "artists = [\"B'z\", \"Mr.Children\", \"ひげだん\", \"あいみょん\", \"ラルク\"]\n",
    "\n",
    "print(artists)\n",
    "print(artists[0])\n",
    "print(artists[-1])\n",
    "print(artists[2:4])"
   ]
  },
  {
   "cell_type": "code",
   "execution_count": 6,
   "metadata": {},
   "outputs": [
    {
     "name": "stdout",
     "output_type": "stream",
     "text": [
      "(35.454578, 139.631348)\n"
     ]
    }
   ],
   "source": [
    "# Challenge 2\n",
    "my_map = [(35.454578, 139.631348), (36.466167, 138.557861)]\n",
    "print(my_map[0])"
   ]
  },
  {
   "cell_type": "code",
   "execution_count": 5,
   "metadata": {},
   "outputs": [
    {
     "name": "stdout",
     "output_type": "stream",
     "text": [
      "D. Carnegie\n",
      "180\n"
     ]
    }
   ],
   "source": [
    "# Challenge 3\n",
    "me_dict = {\"height\": 180,\n",
    "          \"weight\": 66,\n",
    "          \"color\": \"limegreen\",\n",
    "          \"author\": \"D. Carnegie\"}\n",
    "print(me_dict[\"author\"])\n",
    "print(me_dict[\"height\"])"
   ]
  },
  {
   "cell_type": "code",
   "execution_count": 7,
   "metadata": {},
   "outputs": [
    {
     "name": "stdout",
     "output_type": "stream",
     "text": [
      "知りたい情報を入力してください:color\n",
      "limegreen\n"
     ]
    }
   ],
   "source": [
    "# Challenge 4\n",
    "info = input(\"知りたい情報を入力してください:\")\n",
    "print(me_dict[info])"
   ]
  },
  {
   "cell_type": "code",
   "execution_count": 9,
   "metadata": {},
   "outputs": [
    {
     "name": "stdout",
     "output_type": "stream",
     "text": [
      "{'height': 180, 'weight': 66, 'color': 'limegreen', 'author': 'D. Carnegie', \"B'z\": ['Love Phantom', '愛のままにわがままに僕は君だけを傷つけない', 'Ultra soul', 'Ocean', 'ギリギリchop'], 'Mr.Children': ['名もなき詩', 'シーソーゲーム', 'HANABI', '箒星'], 'ひげだん': ['イエスタデイ', 'Pretender', '宿命'], 'あいみょん': ['マリーゴールド', '君はロックを聴かない', '空の青さを知る人よ', '今日このままで', 'ハルノヒ'], 'ラルク': [\"Daybreak's bell\", 'HONEY', \"Driver's High\"]}\n",
      "['イエスタデイ', 'Pretender', '宿命']\n"
     ]
    }
   ],
   "source": [
    "# Challenge 5\n",
    "me_dict[\"B'z\"] = [\"Love Phantom\", \"愛のままにわがままに僕は君だけを傷つけない\", \"Ultra soul\", \"Ocean\", \"ギリギリchop\"]\n",
    "me_dict[\"Mr.Children\"] = [\"名もなき詩\", \"シーソーゲーム\", \"HANABI\", \"箒星\"]\n",
    "me_dict[\"ひげだん\"] = [\"イエスタデイ\", \"Pretender\", \"宿命\"]\n",
    "me_dict[\"あいみょん\"] = [\"マリーゴールド\", \"君はロックを聴かない\", \"空の青さを知る人よ\", \"今日このままで\", \"ハルノヒ\"]\n",
    "me_dict[\"ラルク\"] = [\"Daybreak's bell\", \"HONEY\", \"Driver's High\"]\n",
    "print(me_dict)\n",
    "print(me_dict[\"ひげだん\"])"
   ]
  },
  {
   "cell_type": "code",
   "execution_count": 10,
   "metadata": {},
   "outputs": [
    {
     "name": "stdout",
     "output_type": "stream",
     "text": [
      "{1, 2, 3, 4, 5}\n"
     ]
    }
   ],
   "source": [
    "list_for_set = [1, 2, 2, 4, 1, 3, 3, 5, 4]\n",
    "set_1 = set(list_for_set)\n",
    "print(set_1)"
   ]
  },
  {
   "cell_type": "code",
   "execution_count": null,
   "metadata": {},
   "outputs": [],
   "source": []
  }
 ],
 "metadata": {
  "kernelspec": {
   "display_name": "Python 3",
   "language": "python",
   "name": "python3"
  },
  "language_info": {
   "codemirror_mode": {
    "name": "ipython",
    "version": 3
   },
   "file_extension": ".py",
   "mimetype": "text/x-python",
   "name": "python",
   "nbconvert_exporter": "python",
   "pygments_lexer": "ipython3",
   "version": "3.8.5"
  }
 },
 "nbformat": 4,
 "nbformat_minor": 4
}
