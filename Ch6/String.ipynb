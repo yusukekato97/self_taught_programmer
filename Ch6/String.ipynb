{
 "cells": [
  {
   "cell_type": "code",
   "execution_count": 4,
   "metadata": {},
   "outputs": [
    {
     "name": "stdout",
     "output_type": "stream",
     "text": [
      "line one\n",
      "line two\n",
      "line three\n",
      "\n"
     ]
    }
   ],
   "source": [
    "line_123 = \"\"\"line one\n",
    "line two\n",
    "line three\n",
    "\"\"\"\n",
    "print(line_123)"
   ]
  },
  {
   "cell_type": "code",
   "execution_count": 12,
   "metadata": {},
   "outputs": [
    {
     "name": "stdout",
     "output_type": "stream",
     "text": [
      "Kaf\n",
      "a\n"
     ]
    }
   ],
   "source": [
    "author = \"Kafka\"\n",
    "print(author[0:3])\n",
    "print(author[-1])"
   ]
  },
  {
   "cell_type": "code",
   "execution_count": 14,
   "metadata": {},
   "outputs": [
    {
     "ename": "TypeError",
     "evalue": "'str' object does not support item assignment",
     "output_type": "error",
     "traceback": [
      "\u001b[1;31m---------------------------------------------------------------------------\u001b[0m",
      "\u001b[1;31mTypeError\u001b[0m                                 Traceback (most recent call last)",
      "\u001b[1;32m<ipython-input-14-0c51c2bb4e37>\u001b[0m in \u001b[0;36m<module>\u001b[1;34m\u001b[0m\n\u001b[1;32m----> 1\u001b[1;33m \u001b[0mauthor\u001b[0m\u001b[1;33m[\u001b[0m\u001b[1;36m3\u001b[0m\u001b[1;33m]\u001b[0m \u001b[1;33m=\u001b[0m \u001b[1;34m\"a\"\u001b[0m\u001b[1;33m\u001b[0m\u001b[1;33m\u001b[0m\u001b[0m\n\u001b[0m\u001b[0;32m      2\u001b[0m \u001b[0mprint\u001b[0m\u001b[1;33m(\u001b[0m\u001b[0mauthor\u001b[0m\u001b[1;33m)\u001b[0m\u001b[1;33m\u001b[0m\u001b[1;33m\u001b[0m\u001b[0m\n",
      "\u001b[1;31mTypeError\u001b[0m: 'str' object does not support item assignment"
     ]
    }
   ],
   "source": [
    "# 文字列はイミュータブル\n",
    "author[3] = \"a\"\n",
    "print(author)"
   ]
  },
  {
   "cell_type": "code",
   "execution_count": 15,
   "metadata": {},
   "outputs": [
    {
     "name": "stdout",
     "output_type": "stream",
     "text": [
      "lovelovelove\n",
      "I love nattou.\n"
     ]
    }
   ],
   "source": [
    "print(\"love\"*3)\n",
    "print(\"I\" + \" love\" + \" nattou.\")"
   ]
  },
  {
   "cell_type": "code",
   "execution_count": 16,
   "metadata": {},
   "outputs": [
    {
     "name": "stdout",
     "output_type": "stream",
     "text": [
      "HELLO WORLD\n",
      "i am the champion of the world\n"
     ]
    }
   ],
   "source": [
    "print(\"hello world\".upper())\n",
    "print(\"I AM THE CHAMPION OF THE WORLD\".lower())"
   ]
  },
  {
   "cell_type": "code",
   "execution_count": 17,
   "metadata": {},
   "outputs": [
    {
     "name": "stdout",
     "output_type": "stream",
     "text": [
      "I am the champion\n"
     ]
    }
   ],
   "source": [
    "print(\"i am the champion\".capitalize())"
   ]
  },
  {
   "cell_type": "code",
   "execution_count": 19,
   "metadata": {},
   "outputs": [
    {
     "name": "stdout",
     "output_type": "stream",
     "text": [
      "何が：かとう\n",
      "いつ：去年\n",
      "どこで：駅\n",
      "どうした：転んだ\n",
      "かとうは去年に駅で転んだ。\n"
     ]
    }
   ],
   "source": [
    "what = input(\"何が：\")\n",
    "when = input(\"いつ：\")\n",
    "where = input(\"どこで：\")\n",
    "do = input(\"どうした：\")\n",
    "\n",
    "r = \"{}は{}に{}で{}。\".format(what, when, where, do)\n",
    "print(r)"
   ]
  },
  {
   "cell_type": "code",
   "execution_count": 21,
   "metadata": {},
   "outputs": [
    {
     "name": "stdout",
     "output_type": "stream",
     "text": [
      "['ええ', '嘘でしょ？（笑）']\n"
     ]
    }
   ],
   "source": [
    "print(\"ええ！嘘でしょ？（笑）\".split(\"！\"))"
   ]
  },
  {
   "cell_type": "code",
   "execution_count": 22,
   "metadata": {},
   "outputs": [
    {
     "name": "stdout",
     "output_type": "stream",
     "text": [
      "abcxyz\n",
      "a+b+c+x+y+z\n"
     ]
    }
   ],
   "source": [
    "text_1 = \"abcxyz\"\n",
    "text_2 = \"+\".join(text_1)\n",
    "print(text_1)\n",
    "print(text_2)"
   ]
  },
  {
   "cell_type": "code",
   "execution_count": 25,
   "metadata": {},
   "outputs": [
    {
     "name": "stdout",
     "output_type": "stream",
     "text": [
      "['I', 'am', 'sleepy.']\n",
      "I am sleepy.\n"
     ]
    }
   ],
   "source": [
    "words = [\"I\", \"am\", \"sleepy.\"]\n",
    "print(words)\n",
    "words_2 = \" \".join(words)\n",
    "print(words_2)"
   ]
  },
  {
   "cell_type": "code",
   "execution_count": 28,
   "metadata": {},
   "outputs": [
    {
     "name": "stdout",
     "output_type": "stream",
     "text": [
      "She said \"yeah, that's right\".\n",
      "She said 'yeah, that's right'.\n"
     ]
    }
   ],
   "source": [
    "print(\"She said \\\"yeah, that's right\\\".\")\n",
    "print(\"She said 'yeah, that's right'.\")"
   ]
  },
  {
   "cell_type": "code",
   "execution_count": 29,
   "metadata": {},
   "outputs": [
    {
     "name": "stdout",
     "output_type": "stream",
     "text": [
      "line1 \n",
      " line2 \n",
      " line3\n"
     ]
    }
   ],
   "source": [
    "print(\"line1 \\n line2 \\n line3\")"
   ]
  },
  {
   "cell_type": "code",
   "execution_count": 30,
   "metadata": {},
   "outputs": [
    {
     "name": "stdout",
     "output_type": "stream",
     "text": [
      "カ\n",
      "ミ\n",
      "ュ\n"
     ]
    }
   ],
   "source": [
    "# Challenge 1\n",
    "for i in \"カミュ\":\n",
    "    print(i)"
   ]
  },
  {
   "cell_type": "code",
   "execution_count": 32,
   "metadata": {},
   "outputs": [
    {
     "name": "stdout",
     "output_type": "stream",
     "text": [
      "書いたもの：手紙\n",
      "宛先：旧友\n",
      "私は昨日手紙を書いて、旧友に送った！\n"
     ]
    }
   ],
   "source": [
    "# Challege 2\n",
    "what = input(\"書いたもの：\")\n",
    "to_who = input(\"宛先：\")\n",
    "print(\"私は昨日{}を書いて、{}に送った！\".format(what, to_who))"
   ]
  },
  {
   "cell_type": "code",
   "execution_count": 33,
   "metadata": {},
   "outputs": [
    {
     "name": "stdout",
     "output_type": "stream",
     "text": [
      "Aldous huxley was born in 1894.\n"
     ]
    }
   ],
   "source": [
    "# Challenge 3\n",
    "print(\"aldous Huxley was born in 1894.\".capitalize())"
   ]
  },
  {
   "cell_type": "code",
   "execution_count": 46,
   "metadata": {},
   "outputs": [
    {
     "name": "stdout",
     "output_type": "stream",
     "text": [
      "どこで？ だれが？ いつ？\n",
      "['どこで？', 'だれが？', 'いつ？']\n"
     ]
    }
   ],
   "source": [
    "# Challenge 4\n",
    "www = \"どこで？ だれが？ いつ？\"\n",
    "print(www)\n",
    "www_list = www.split(\" \")\n",
    "print(www_list)"
   ]
  },
  {
   "cell_type": "code",
   "execution_count": 48,
   "metadata": {},
   "outputs": [
    {
     "name": "stdout",
     "output_type": "stream",
     "text": [
      "The fox jumped over the fence.\n"
     ]
    }
   ],
   "source": [
    "# Challenge 5\n",
    "word_list = [\"The\", \"fox\", \"jumped\", \"over\", \"the\", \"fence\", \".\"]\n",
    "words = \" \".join(word_list[0:6])\n",
    "words += word_list[6]\n",
    "print(words)"
   ]
  },
  {
   "cell_type": "code",
   "execution_count": 51,
   "metadata": {},
   "outputs": [
    {
     "name": "stdout",
     "output_type": "stream",
     "text": [
      "A @creaming come@ acro@@ the @ky.\n",
      "2\n"
     ]
    }
   ],
   "source": [
    "# Challenge 6\n",
    "str = \"A screaming comes across the sky.\"\n",
    "str = str.replace(\"s\", \"@\")\n",
    "print(str)\n",
    "\n",
    "#Challenge 7\n",
    "num = \"Hemingway\".index(\"m\")\n",
    "print(num)"
   ]
  },
  {
   "cell_type": "code",
   "execution_count": 52,
   "metadata": {},
   "outputs": [
    {
     "name": "stdout",
     "output_type": "stream",
     "text": [
      "['四月の晴れた寒い朝で', '時計がどれも十三時を打っていた。']\n",
      "四月の晴れた寒い朝で\n"
     ]
    }
   ],
   "source": [
    "# Challenge 10\n",
    "sent = \"四月の晴れた寒い朝で、時計がどれも十三時を打っていた。\"\n",
    "sent = sent.split(\"、\")\n",
    "print(sent)\n",
    "sent_1 = sent[0]\n",
    "print(sent_1)"
   ]
  }
 ],
 "metadata": {
  "kernelspec": {
   "display_name": "Python 3",
   "language": "python",
   "name": "python3"
  },
  "language_info": {
   "codemirror_mode": {
    "name": "ipython",
    "version": 3
   },
   "file_extension": ".py",
   "mimetype": "text/x-python",
   "name": "python",
   "nbconvert_exporter": "python",
   "pygments_lexer": "ipython3",
   "version": "3.8.5"
  }
 },
 "nbformat": 4,
 "nbformat_minor": 4
}
