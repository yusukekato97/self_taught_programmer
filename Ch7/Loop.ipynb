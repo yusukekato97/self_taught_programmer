{
 "cells": [
  {
   "cell_type": "code",
   "execution_count": 1,
   "metadata": {},
   "outputs": [
    {
     "name": "stdout",
     "output_type": "stream",
     "text": [
      "ウォーキング・デッド\n",
      "梨泰院クラス\n",
      "ストレンジャー・シングス\n",
      "東京ラブストーリー\n",
      "半沢直樹\n"
     ]
    }
   ],
   "source": [
    "# Challenge 1\n",
    "series = [\"ウォーキング・デッド\", \"梨泰院クラス\", \"ストレンジャー・シングス\", \"東京ラブストーリー\", \"半沢直樹\"]\n",
    "for drama in series:\n",
    "    print(drama)"
   ]
  },
  {
   "cell_type": "code",
   "execution_count": 2,
   "metadata": {},
   "outputs": [
    {
     "name": "stdout",
     "output_type": "stream",
     "text": [
      "25\n",
      "26\n",
      "27\n",
      "28\n",
      "29\n",
      "30\n",
      "31\n",
      "32\n",
      "33\n",
      "34\n",
      "35\n",
      "36\n",
      "37\n",
      "38\n",
      "39\n",
      "40\n",
      "41\n",
      "42\n",
      "43\n",
      "44\n",
      "45\n",
      "46\n",
      "47\n",
      "48\n",
      "49\n",
      "50\n"
     ]
    }
   ],
   "source": [
    "# Challenge 2\n",
    "for i in range(25,51):\n",
    "    print(i)"
   ]
  },
  {
   "cell_type": "code",
   "execution_count": 4,
   "metadata": {},
   "outputs": [
    {
     "name": "stdout",
     "output_type": "stream",
     "text": [
      "0\n",
      "ウォーキング・デッド\n",
      "1\n",
      "梨泰院クラス\n",
      "2\n",
      "ストレンジャー・シングス\n",
      "3\n",
      "東京ラブストーリー\n",
      "4\n",
      "半沢直樹\n",
      "0\n",
      "ウォーキング・デッド\n",
      "1\n",
      "梨泰院クラス\n",
      "2\n",
      "ストレンジャー・シングス\n",
      "3\n",
      "東京ラブストーリー\n",
      "4\n",
      "半沢直樹\n"
     ]
    }
   ],
   "source": [
    "# Challenge 3\n",
    "i = 0\n",
    "for drama in series:\n",
    "    print(i)\n",
    "    print(drama)\n",
    "    i += 1\n",
    "    \n",
    "for i, drama in enumerate(series):\n",
    "    drama = series[i]\n",
    "    print(i)\n",
    "    print(drama)"
   ]
  },
  {
   "cell_type": "code",
   "execution_count": 23,
   "metadata": {},
   "outputs": [
    {
     "name": "stdout",
     "output_type": "stream",
     "text": [
      "数字を入力してください：a\n",
      "数字を入力するか、qで終了します\n",
      "数字を入力してください：1\n",
      "正解！\n",
      "数字を入力してください：2\n",
      "正解！\n",
      "数字を入力してください：1997\n",
      "正解！\n",
      "数字を入力してください：q\n"
     ]
    }
   ],
   "source": [
    "# Challenge 4\n",
    "\n",
    "num_list = [1, 2, 3, 5, 7, 11, 100, 311, 1997] \n",
    "\n",
    "while True:\n",
    "    num = input(\"数字を入力してください：\")\n",
    "    \n",
    "    if num == \"q\":\n",
    "        break\n",
    "    \n",
    "    try:\n",
    "        num = int(num)\n",
    "        if num in num_list:\n",
    "            print(\"正解！\")\n",
    "        elif num not in num_list:\n",
    "            print(\"不正解。。。\")\n",
    "    except ValueError:\n",
    "        print(\"数字を入力するか、qで終了します\")"
   ]
  },
  {
   "cell_type": "code",
   "execution_count": 10,
   "metadata": {},
   "outputs": [
    {
     "ename": "ValueError",
     "evalue": "invalid literal for int() with base 10: '10.1'",
     "output_type": "error",
     "traceback": [
      "\u001b[1;31m---------------------------------------------------------------------------\u001b[0m",
      "\u001b[1;31mValueError\u001b[0m                                Traceback (most recent call last)",
      "\u001b[1;32m<ipython-input-10-bfd0cad61de8>\u001b[0m in \u001b[0;36m<module>\u001b[1;34m\u001b[0m\n\u001b[1;32m----> 1\u001b[1;33m \u001b[0mint\u001b[0m\u001b[1;33m(\u001b[0m\u001b[1;34m\"10.1\"\u001b[0m\u001b[1;33m)\u001b[0m\u001b[1;33m\u001b[0m\u001b[1;33m\u001b[0m\u001b[0m\n\u001b[0m",
      "\u001b[1;31mValueError\u001b[0m: invalid literal for int() with base 10: '10.1'"
     ]
    }
   ],
   "source": [
    "int(\"10.1\")"
   ]
  },
  {
   "cell_type": "code",
   "execution_count": 15,
   "metadata": {},
   "outputs": [
    {
     "name": "stdout",
     "output_type": "stream",
     "text": [
      "['1', '2', '3', '5', '7', '11', '100', '311', '1997']\n"
     ]
    }
   ],
   "source": [
    "list = [1, 2, 3, 5, 7, 11, 100, 311, 1997]\n",
    "i = 0\n",
    "for value in list:\n",
    "    list[i] = str(value)\n",
    "    i += 1\n",
    "print(list)"
   ]
  },
  {
   "cell_type": "code",
   "execution_count": 24,
   "metadata": {},
   "outputs": [
    {
     "name": "stdout",
     "output_type": "stream",
     "text": [
      "[72, 8, 264, 664, 171, 19, 627, 1577, 1332, 148, 4884, 12284, 36, 4, 132, 332]\n"
     ]
    }
   ],
   "source": [
    "# Challenge 5\n",
    "list_1 = [8, 19, 148, 4]\n",
    "list_2 = [9, 1, 33, 83]\n",
    "answer = []\n",
    "\n",
    "for i in list_1:\n",
    "    for j in list_2:\n",
    "        answer.append(i*j)\n",
    "\n",
    "print(answer)"
   ]
  },
  {
   "cell_type": "code",
   "execution_count": null,
   "metadata": {},
   "outputs": [],
   "source": []
  }
 ],
 "metadata": {
  "kernelspec": {
   "display_name": "Python 3",
   "language": "python",
   "name": "python3"
  },
  "language_info": {
   "codemirror_mode": {
    "name": "ipython",
    "version": 3
   },
   "file_extension": ".py",
   "mimetype": "text/x-python",
   "name": "python",
   "nbconvert_exporter": "python",
   "pygments_lexer": "ipython3",
   "version": "3.8.5"
  }
 },
 "nbformat": 4,
 "nbformat_minor": 4
}
